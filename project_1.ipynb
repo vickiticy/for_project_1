{
 "cells": [
  {
   "cell_type": "markdown",
   "metadata": {},
   "source": [
    "# Проект 1\n",
    "\n",
    "**Представьте, что вы работаете в компании, которая разрабатывает мобильные игры.**\n",
    "**К вам пришел менеджер с рядом задач по исследованию нескольких аспектов мобильного приложения:**\n",
    "\n",
    "* **В первую очередь, его интересует показатель retention. Напишите функцию для его подсчета.**\n",
    "* **Помимо этого, в компании провели A/B тестирование наборов акционных предложений.**\n",
    "**На основе имеющихся данных определите, какой набор можно считать лучшим и на основе каких метрик**\n",
    "**стоит принять правильное решение.**\n",
    "* **Предложите метрики для оценки результатов последнего прошедшего тематического события в игре.**"
   ]
  },
  {
   "cell_type": "markdown",
   "metadata": {},
   "source": [
    "<div class=\"alert alert-block alert-danger\"\n",
    "<b>\n",
    "<ol>\n",
    "    \n",
    "**Задача 1**\n",
    "\n",
    "**Retention – один из самых важных показателей в компании.**\n",
    "**Ваша задача – написать функцию, которая будет считать retention игроков (по дням от даты регистрации игрока).**\n",
    "**Данные лежат в папке shared и имеют следующую структуру:**\n",
    "    \n",
    "* **shared/problem1-reg_data.csv** – данные о времени регистрации\n",
    "* **shared/problem1-auth_data.csv** – данные о времени захода пользователей в игру\n",
    "\n",
    "**Функция должна быть написана на python.** \n",
    "**В ходе решения можно тестировать работу функции как на полном датасете, так и на части (сэмпле) данных.**  \n",
    "</ol>\n",
    "</b>\n",
    "</div>"
   ]
  },
  {
   "cell_type": "markdown",
   "metadata": {},
   "source": [
    "<div class=\"alert alert-block alert-info\"\n",
    "<b>\n",
    "Для начала подключим необходимые библиотеки\n",
    "</b>\n",
    "</div"
   ]
  },
  {
   "cell_type": "code",
   "execution_count": 1,
   "metadata": {},
   "outputs": [],
   "source": [
    "import pandas as pd\n",
    "import numpy as np\n",
    "from operator import attrgetter\n",
    "import seaborn as sns\n",
    "import matplotlib.pyplot as plt\n",
    "import warnings\n",
    "warnings.filterwarnings('ignore')\n",
    "import scipy\n",
    "from scipy import stats\n",
    "from scipy.stats import norm\n",
    "import requests \n",
    "from urllib.parse import urlencode"
   ]
  },
  {
   "cell_type": "markdown",
   "metadata": {},
   "source": [
    "<div class=\"alert alert-block alert-info\"\n",
    "<b>\n",
    "Теперь подгрузим данные о времени регистрации\n",
    "</b>\n",
    "</div"
   ]
  },
  {
   "cell_type": "code",
   "execution_count": 2,
   "metadata": {},
   "outputs": [
    {
     "data": {
      "text/html": [
       "<div>\n",
       "<style scoped>\n",
       "    .dataframe tbody tr th:only-of-type {\n",
       "        vertical-align: middle;\n",
       "    }\n",
       "\n",
       "    .dataframe tbody tr th {\n",
       "        vertical-align: top;\n",
       "    }\n",
       "\n",
       "    .dataframe thead th {\n",
       "        text-align: right;\n",
       "    }\n",
       "</style>\n",
       "<table border=\"1\" class=\"dataframe\">\n",
       "  <thead>\n",
       "    <tr style=\"text-align: right;\">\n",
       "      <th></th>\n",
       "      <th>reg_ts</th>\n",
       "      <th>uid</th>\n",
       "    </tr>\n",
       "  </thead>\n",
       "  <tbody>\n",
       "    <tr>\n",
       "      <th>0</th>\n",
       "      <td>911382223</td>\n",
       "      <td>1</td>\n",
       "    </tr>\n",
       "    <tr>\n",
       "      <th>1</th>\n",
       "      <td>932683089</td>\n",
       "      <td>2</td>\n",
       "    </tr>\n",
       "    <tr>\n",
       "      <th>2</th>\n",
       "      <td>947802447</td>\n",
       "      <td>3</td>\n",
       "    </tr>\n",
       "    <tr>\n",
       "      <th>3</th>\n",
       "      <td>959523541</td>\n",
       "      <td>4</td>\n",
       "    </tr>\n",
       "    <tr>\n",
       "      <th>4</th>\n",
       "      <td>969103313</td>\n",
       "      <td>5</td>\n",
       "    </tr>\n",
       "  </tbody>\n",
       "</table>\n",
       "</div>"
      ],
      "text/plain": [
       "      reg_ts  uid\n",
       "0  911382223    1\n",
       "1  932683089    2\n",
       "2  947802447    3\n",
       "3  959523541    4\n",
       "4  969103313    5"
      ]
     },
     "execution_count": 2,
     "metadata": {},
     "output_type": "execute_result"
    }
   ],
   "source": [
    "reg_data = pd.read_csv('~/shared/problem1-reg_data.csv',sep=';')\n",
    "reg_data.head()"
   ]
  },
  {
   "cell_type": "markdown",
   "metadata": {},
   "source": [
    "<div class=\"alert alert-block alert-info\"\n",
    "<b>\n",
    "А также данные о времени захода пользователей в игру\n",
    "</b>\n",
    "</div"
   ]
  },
  {
   "cell_type": "code",
   "execution_count": 3,
   "metadata": {},
   "outputs": [
    {
     "data": {
      "text/html": [
       "<div>\n",
       "<style scoped>\n",
       "    .dataframe tbody tr th:only-of-type {\n",
       "        vertical-align: middle;\n",
       "    }\n",
       "\n",
       "    .dataframe tbody tr th {\n",
       "        vertical-align: top;\n",
       "    }\n",
       "\n",
       "    .dataframe thead th {\n",
       "        text-align: right;\n",
       "    }\n",
       "</style>\n",
       "<table border=\"1\" class=\"dataframe\">\n",
       "  <thead>\n",
       "    <tr style=\"text-align: right;\">\n",
       "      <th></th>\n",
       "      <th>auth_ts</th>\n",
       "      <th>uid</th>\n",
       "    </tr>\n",
       "  </thead>\n",
       "  <tbody>\n",
       "    <tr>\n",
       "      <th>0</th>\n",
       "      <td>911382223</td>\n",
       "      <td>1</td>\n",
       "    </tr>\n",
       "    <tr>\n",
       "      <th>1</th>\n",
       "      <td>932683089</td>\n",
       "      <td>2</td>\n",
       "    </tr>\n",
       "    <tr>\n",
       "      <th>2</th>\n",
       "      <td>932921206</td>\n",
       "      <td>2</td>\n",
       "    </tr>\n",
       "    <tr>\n",
       "      <th>3</th>\n",
       "      <td>933393015</td>\n",
       "      <td>2</td>\n",
       "    </tr>\n",
       "    <tr>\n",
       "      <th>4</th>\n",
       "      <td>933875379</td>\n",
       "      <td>2</td>\n",
       "    </tr>\n",
       "  </tbody>\n",
       "</table>\n",
       "</div>"
      ],
      "text/plain": [
       "     auth_ts  uid\n",
       "0  911382223    1\n",
       "1  932683089    2\n",
       "2  932921206    2\n",
       "3  933393015    2\n",
       "4  933875379    2"
      ]
     },
     "execution_count": 3,
     "metadata": {},
     "output_type": "execute_result"
    }
   ],
   "source": [
    "auth_data = pd.read_csv('~/shared/problem1-auth_data.csv',sep=';')\n",
    "auth_data.head()"
   ]
  },
  {
   "cell_type": "markdown",
   "metadata": {},
   "source": [
    "<div class=\"alert alert-block alert-info\"\n",
    "<b>\n",
    "Далее проведем предварительную проверку данных:\n",
    "\n",
    "* типы данных в датафреймах\n",
    "\n",
    "</b>\n",
    "</div"
   ]
  },
  {
   "cell_type": "code",
   "execution_count": 4,
   "metadata": {},
   "outputs": [
    {
     "data": {
      "text/plain": [
       "reg_ts    int64\n",
       "uid       int64\n",
       "dtype: object"
      ]
     },
     "execution_count": 4,
     "metadata": {},
     "output_type": "execute_result"
    }
   ],
   "source": [
    "reg_data.dtypes"
   ]
  },
  {
   "cell_type": "code",
   "execution_count": 5,
   "metadata": {},
   "outputs": [
    {
     "data": {
      "text/plain": [
       "auth_ts    int64\n",
       "uid        int64\n",
       "dtype: object"
      ]
     },
     "execution_count": 5,
     "metadata": {},
     "output_type": "execute_result"
    }
   ],
   "source": [
    "auth_data.dtypes"
   ]
  },
  {
   "cell_type": "markdown",
   "metadata": {},
   "source": [
    "<div class=\"alert alert-block alert-info\"\n",
    "<b>\n",
    "\n",
    "* наличие пустых значений\n",
    "\n",
    "</b>\n",
    "</div"
   ]
  },
  {
   "cell_type": "code",
   "execution_count": 6,
   "metadata": {},
   "outputs": [
    {
     "data": {
      "text/plain": [
       "reg_ts    0\n",
       "uid       0\n",
       "dtype: int64"
      ]
     },
     "execution_count": 6,
     "metadata": {},
     "output_type": "execute_result"
    }
   ],
   "source": [
    "reg_data.isna().sum()"
   ]
  },
  {
   "cell_type": "code",
   "execution_count": 7,
   "metadata": {},
   "outputs": [
    {
     "data": {
      "text/plain": [
       "auth_ts    0\n",
       "uid        0\n",
       "dtype: int64"
      ]
     },
     "execution_count": 7,
     "metadata": {},
     "output_type": "execute_result"
    }
   ],
   "source": [
    "auth_data.isna().sum()"
   ]
  },
  {
   "cell_type": "markdown",
   "metadata": {},
   "source": [
    "<div class=\"alert alert-block alert-info\"\n",
    "<b>\n",
    "\n",
    "* размер фреймов\n",
    "\n",
    "</b>\n",
    "</div"
   ]
  },
  {
   "cell_type": "code",
   "execution_count": 8,
   "metadata": {},
   "outputs": [
    {
     "data": {
      "text/plain": [
       "(1000000, 2)"
      ]
     },
     "execution_count": 8,
     "metadata": {},
     "output_type": "execute_result"
    }
   ],
   "source": [
    "reg_data.shape"
   ]
  },
  {
   "cell_type": "code",
   "execution_count": 9,
   "metadata": {},
   "outputs": [
    {
     "data": {
      "text/plain": [
       "(9601013, 2)"
      ]
     },
     "execution_count": 9,
     "metadata": {},
     "output_type": "execute_result"
    }
   ],
   "source": [
    "auth_data.shape"
   ]
  },
  {
   "cell_type": "markdown",
   "metadata": {},
   "source": [
    "<div class=\"alert alert-block alert-info\"\n",
    "<b>\n",
    "\n",
    "* число уникальных пользователей\n",
    "\n",
    "</b>\n",
    "</div"
   ]
  },
  {
   "cell_type": "code",
   "execution_count": 10,
   "metadata": {},
   "outputs": [
    {
     "data": {
      "text/plain": [
       "1000000"
      ]
     },
     "execution_count": 10,
     "metadata": {},
     "output_type": "execute_result"
    }
   ],
   "source": [
    "reg_data.uid.nunique()"
   ]
  },
  {
   "cell_type": "code",
   "execution_count": 11,
   "metadata": {},
   "outputs": [
    {
     "data": {
      "text/plain": [
       "1000000"
      ]
     },
     "execution_count": 11,
     "metadata": {},
     "output_type": "execute_result"
    }
   ],
   "source": [
    "auth_data.uid.nunique()"
   ]
  },
  {
   "cell_type": "markdown",
   "metadata": {},
   "source": [
    "<div class=\"alert alert-block alert-info\"\n",
    "<b>\n",
    "\n",
    "Сконвертируем столбцы с временем в human-readable формат\n",
    "\n",
    "</b>\n",
    "</div"
   ]
  },
  {
   "cell_type": "code",
   "execution_count": 12,
   "metadata": {},
   "outputs": [],
   "source": [
    "reg_data.reg_ts = pd.to_datetime(reg_data.reg_ts, unit='s')"
   ]
  },
  {
   "cell_type": "code",
   "execution_count": 13,
   "metadata": {},
   "outputs": [],
   "source": [
    "auth_data.auth_ts = pd.to_datetime(auth_data.auth_ts, unit='s')"
   ]
  },
  {
   "cell_type": "markdown",
   "metadata": {},
   "source": [
    "<div class=\"alert alert-block alert-info\"\n",
    "<b>\n",
    "\n",
    "Соберем вместе данные для работы\n",
    "\n",
    "</b>\n",
    "</div"
   ]
  },
  {
   "cell_type": "code",
   "execution_count": 14,
   "metadata": {},
   "outputs": [
    {
     "data": {
      "text/html": [
       "<div>\n",
       "<style scoped>\n",
       "    .dataframe tbody tr th:only-of-type {\n",
       "        vertical-align: middle;\n",
       "    }\n",
       "\n",
       "    .dataframe tbody tr th {\n",
       "        vertical-align: top;\n",
       "    }\n",
       "\n",
       "    .dataframe thead th {\n",
       "        text-align: right;\n",
       "    }\n",
       "</style>\n",
       "<table border=\"1\" class=\"dataframe\">\n",
       "  <thead>\n",
       "    <tr style=\"text-align: right;\">\n",
       "      <th></th>\n",
       "      <th>reg_ts</th>\n",
       "      <th>uid</th>\n",
       "      <th>auth_ts</th>\n",
       "    </tr>\n",
       "  </thead>\n",
       "  <tbody>\n",
       "    <tr>\n",
       "      <th>0</th>\n",
       "      <td>1998-11-18 09:43:43</td>\n",
       "      <td>1</td>\n",
       "      <td>1998-11-18 09:43:43</td>\n",
       "    </tr>\n",
       "    <tr>\n",
       "      <th>1</th>\n",
       "      <td>1999-07-22 22:38:09</td>\n",
       "      <td>2</td>\n",
       "      <td>1999-07-22 22:38:09</td>\n",
       "    </tr>\n",
       "    <tr>\n",
       "      <th>2</th>\n",
       "      <td>1999-07-22 22:38:09</td>\n",
       "      <td>2</td>\n",
       "      <td>1999-07-25 16:46:46</td>\n",
       "    </tr>\n",
       "    <tr>\n",
       "      <th>3</th>\n",
       "      <td>1999-07-22 22:38:09</td>\n",
       "      <td>2</td>\n",
       "      <td>1999-07-31 03:50:15</td>\n",
       "    </tr>\n",
       "    <tr>\n",
       "      <th>4</th>\n",
       "      <td>1999-07-22 22:38:09</td>\n",
       "      <td>2</td>\n",
       "      <td>1999-08-05 17:49:39</td>\n",
       "    </tr>\n",
       "  </tbody>\n",
       "</table>\n",
       "</div>"
      ],
      "text/plain": [
       "               reg_ts  uid             auth_ts\n",
       "0 1998-11-18 09:43:43    1 1998-11-18 09:43:43\n",
       "1 1999-07-22 22:38:09    2 1999-07-22 22:38:09\n",
       "2 1999-07-22 22:38:09    2 1999-07-25 16:46:46\n",
       "3 1999-07-22 22:38:09    2 1999-07-31 03:50:15\n",
       "4 1999-07-22 22:38:09    2 1999-08-05 17:49:39"
      ]
     },
     "execution_count": 14,
     "metadata": {},
     "output_type": "execute_result"
    }
   ],
   "source": [
    "df = reg_data.merge(auth_data, on='uid')\n",
    "df.head()"
   ]
  },
  {
   "cell_type": "markdown",
   "metadata": {},
   "source": [
    "<div class=\"alert alert-block alert-info\"\n",
    "<b>\n",
    "\n",
    "Посмотрим на разброс дат\n",
    "\n",
    "</b>\n",
    "</div\n"
   ]
  },
  {
   "cell_type": "code",
   "execution_count": 15,
   "metadata": {},
   "outputs": [
    {
     "data": {
      "text/plain": [
       "reg_ts    2020-09-23 15:17:24\n",
       "auth_ts   2020-09-23 15:17:24\n",
       "dtype: datetime64[ns]"
      ]
     },
     "execution_count": 15,
     "metadata": {},
     "output_type": "execute_result"
    }
   ],
   "source": [
    "df[['reg_ts','auth_ts']].max()"
   ]
  },
  {
   "cell_type": "code",
   "execution_count": 16,
   "metadata": {},
   "outputs": [
    {
     "data": {
      "text/plain": [
       "reg_ts    1998-11-18 09:43:43\n",
       "auth_ts   1998-11-18 09:43:43\n",
       "dtype: datetime64[ns]"
      ]
     },
     "execution_count": 16,
     "metadata": {},
     "output_type": "execute_result"
    }
   ],
   "source": [
    "df[['reg_ts','auth_ts']].min()"
   ]
  },
  {
   "cell_type": "markdown",
   "metadata": {},
   "source": [
    "<div class=\"alert alert-block alert-info\"\n",
    "<b>\n",
    "\n",
    "Нетрудно заметить, что разбор данных довольно большой \n",
    "\n",
    "По заданию требуется найти retention по дням от даты регистрации игрока\n",
    "\n",
    "Поэтому целесообразнее рассчитывать retention в рамках недели \n",
    "\n",
    "</b>\n",
    "</div"
   ]
  },
  {
   "cell_type": "code",
   "execution_count": 17,
   "metadata": {},
   "outputs": [],
   "source": [
    "def cohort_retention(period,frame,reg_date,auth_date,cus_id):\n",
    "    data = frame.query('reg_ts >= @period')\n",
    "    \n",
    "    data[reg_date] = pd.to_datetime(data[reg_date]).dt.to_period(\"d\")\n",
    "    data[auth_date] = pd.to_datetime(data[auth_date]).dt.to_period(\"d\")\n",
    "    data['days'] = (data[auth_date] - data[reg_date]).apply(attrgetter('n'))\n",
    "    \n",
    "    coh = data.pivot_table(index = reg_date, columns='days', values = cus_id, aggfunc = 'nunique')\n",
    "    coh = coh.div(coh.iloc[:,0], axis = 0)\n",
    "\n",
    "    final_table = (coh\n",
    "            .style\n",
    "            .set_caption('User retention by cohort')  # добавляем подпись\n",
    "            .background_gradient(cmap='viridis')  # раскрашиваем ячейки по столбцам\n",
    "            .highlight_null('white')  # делаем белый фон для значений NaN\n",
    "            .format(\"{:.2%}\", na_rep=\"\"))  # числа форматируем как проценты, NaN заменяем на пустоту\n",
    "\n",
    "    return final_table"
   ]
  },
  {
   "cell_type": "code",
   "execution_count": 18,
   "metadata": {},
   "outputs": [
    {
     "data": {
      "text/html": [
       "<style  type=\"text/css\" >\n",
       "#T_8752cd00_814c_11ed_bdbb_96000040dfb6row0_col0,#T_8752cd00_814c_11ed_bdbb_96000040dfb6row0_col6,#T_8752cd00_814c_11ed_bdbb_96000040dfb6row1_col0,#T_8752cd00_814c_11ed_bdbb_96000040dfb6row1_col5,#T_8752cd00_814c_11ed_bdbb_96000040dfb6row2_col0,#T_8752cd00_814c_11ed_bdbb_96000040dfb6row2_col4,#T_8752cd00_814c_11ed_bdbb_96000040dfb6row3_col0,#T_8752cd00_814c_11ed_bdbb_96000040dfb6row3_col3,#T_8752cd00_814c_11ed_bdbb_96000040dfb6row4_col0,#T_8752cd00_814c_11ed_bdbb_96000040dfb6row4_col2,#T_8752cd00_814c_11ed_bdbb_96000040dfb6row5_col0,#T_8752cd00_814c_11ed_bdbb_96000040dfb6row5_col1,#T_8752cd00_814c_11ed_bdbb_96000040dfb6row6_col0{\n",
       "            background-color:  #440154;\n",
       "            color:  #f1f1f1;\n",
       "        }#T_8752cd00_814c_11ed_bdbb_96000040dfb6row0_col1{\n",
       "            background-color:  #20928c;\n",
       "            color:  #000000;\n",
       "        }#T_8752cd00_814c_11ed_bdbb_96000040dfb6row0_col2{\n",
       "            background-color:  #98d83e;\n",
       "            color:  #000000;\n",
       "        }#T_8752cd00_814c_11ed_bdbb_96000040dfb6row0_col3{\n",
       "            background-color:  #d0e11c;\n",
       "            color:  #000000;\n",
       "        }#T_8752cd00_814c_11ed_bdbb_96000040dfb6row0_col4,#T_8752cd00_814c_11ed_bdbb_96000040dfb6row0_col5,#T_8752cd00_814c_11ed_bdbb_96000040dfb6row1_col2,#T_8752cd00_814c_11ed_bdbb_96000040dfb6row2_col3,#T_8752cd00_814c_11ed_bdbb_96000040dfb6row3_col1{\n",
       "            background-color:  #fde725;\n",
       "            color:  #000000;\n",
       "        }#T_8752cd00_814c_11ed_bdbb_96000040dfb6row1_col1{\n",
       "            background-color:  #32b67a;\n",
       "            color:  #000000;\n",
       "        }#T_8752cd00_814c_11ed_bdbb_96000040dfb6row1_col3{\n",
       "            background-color:  #77d153;\n",
       "            color:  #000000;\n",
       "        }#T_8752cd00_814c_11ed_bdbb_96000040dfb6row1_col4{\n",
       "            background-color:  #aadc32;\n",
       "            color:  #000000;\n",
       "        }#T_8752cd00_814c_11ed_bdbb_96000040dfb6row1_col6,#T_8752cd00_814c_11ed_bdbb_96000040dfb6row2_col6,#T_8752cd00_814c_11ed_bdbb_96000040dfb6row3_col6,#T_8752cd00_814c_11ed_bdbb_96000040dfb6row4_col6,#T_8752cd00_814c_11ed_bdbb_96000040dfb6row5_col6,#T_8752cd00_814c_11ed_bdbb_96000040dfb6row6_col6{\n",
       "            background-color:  #440154;\n",
       "            color:  #f1f1f1;\n",
       "            background-color:  white;\n",
       "        }#T_8752cd00_814c_11ed_bdbb_96000040dfb6row2_col1{\n",
       "            background-color:  #26ad81;\n",
       "            color:  #000000;\n",
       "        }#T_8752cd00_814c_11ed_bdbb_96000040dfb6row2_col2{\n",
       "            background-color:  #2e6f8e;\n",
       "            color:  #f1f1f1;\n",
       "        }#T_8752cd00_814c_11ed_bdbb_96000040dfb6row2_col5,#T_8752cd00_814c_11ed_bdbb_96000040dfb6row3_col4,#T_8752cd00_814c_11ed_bdbb_96000040dfb6row3_col5,#T_8752cd00_814c_11ed_bdbb_96000040dfb6row4_col3,#T_8752cd00_814c_11ed_bdbb_96000040dfb6row4_col4,#T_8752cd00_814c_11ed_bdbb_96000040dfb6row4_col5,#T_8752cd00_814c_11ed_bdbb_96000040dfb6row5_col2,#T_8752cd00_814c_11ed_bdbb_96000040dfb6row5_col3,#T_8752cd00_814c_11ed_bdbb_96000040dfb6row5_col4,#T_8752cd00_814c_11ed_bdbb_96000040dfb6row5_col5,#T_8752cd00_814c_11ed_bdbb_96000040dfb6row6_col1,#T_8752cd00_814c_11ed_bdbb_96000040dfb6row6_col2,#T_8752cd00_814c_11ed_bdbb_96000040dfb6row6_col3,#T_8752cd00_814c_11ed_bdbb_96000040dfb6row6_col4,#T_8752cd00_814c_11ed_bdbb_96000040dfb6row6_col5{\n",
       "            background-color:  #000000;\n",
       "            color:  #f1f1f1;\n",
       "            background-color:  white;\n",
       "        }#T_8752cd00_814c_11ed_bdbb_96000040dfb6row3_col2{\n",
       "            background-color:  #a8db34;\n",
       "            color:  #000000;\n",
       "        }#T_8752cd00_814c_11ed_bdbb_96000040dfb6row4_col1{\n",
       "            background-color:  #31b57b;\n",
       "            color:  #000000;\n",
       "        }</style><table id=\"T_8752cd00_814c_11ed_bdbb_96000040dfb6\" ><caption>User retention by cohort</caption><thead>    <tr>        <th class=\"index_name level0\" >days</th>        <th class=\"col_heading level0 col0\" >0</th>        <th class=\"col_heading level0 col1\" >1</th>        <th class=\"col_heading level0 col2\" >2</th>        <th class=\"col_heading level0 col3\" >3</th>        <th class=\"col_heading level0 col4\" >4</th>        <th class=\"col_heading level0 col5\" >5</th>        <th class=\"col_heading level0 col6\" >6</th>    </tr>    <tr>        <th class=\"index_name level0\" >reg_ts</th>        <th class=\"blank\" ></th>        <th class=\"blank\" ></th>        <th class=\"blank\" ></th>        <th class=\"blank\" ></th>        <th class=\"blank\" ></th>        <th class=\"blank\" ></th>        <th class=\"blank\" ></th>    </tr></thead><tbody>\n",
       "                <tr>\n",
       "                        <th id=\"T_8752cd00_814c_11ed_bdbb_96000040dfb6level0_row0\" class=\"row_heading level0 row0\" >2020-09-17</th>\n",
       "                        <td id=\"T_8752cd00_814c_11ed_bdbb_96000040dfb6row0_col0\" class=\"data row0 col0\" >100.00%</td>\n",
       "                        <td id=\"T_8752cd00_814c_11ed_bdbb_96000040dfb6row0_col1\" class=\"data row0 col1\" >1.66%</td>\n",
       "                        <td id=\"T_8752cd00_814c_11ed_bdbb_96000040dfb6row0_col2\" class=\"data row0 col2\" >4.30%</td>\n",
       "                        <td id=\"T_8752cd00_814c_11ed_bdbb_96000040dfb6row0_col3\" class=\"data row0 col3\" >4.55%</td>\n",
       "                        <td id=\"T_8752cd00_814c_11ed_bdbb_96000040dfb6row0_col4\" class=\"data row0 col4\" >5.47%</td>\n",
       "                        <td id=\"T_8752cd00_814c_11ed_bdbb_96000040dfb6row0_col5\" class=\"data row0 col5\" >6.27%</td>\n",
       "                        <td id=\"T_8752cd00_814c_11ed_bdbb_96000040dfb6row0_col6\" class=\"data row0 col6\" >4.24%</td>\n",
       "            </tr>\n",
       "            <tr>\n",
       "                        <th id=\"T_8752cd00_814c_11ed_bdbb_96000040dfb6level0_row1\" class=\"row_heading level0 row1\" >2020-09-18</th>\n",
       "                        <td id=\"T_8752cd00_814c_11ed_bdbb_96000040dfb6row1_col0\" class=\"data row1 col0\" >100.00%</td>\n",
       "                        <td id=\"T_8752cd00_814c_11ed_bdbb_96000040dfb6row1_col1\" class=\"data row1 col1\" >1.90%</td>\n",
       "                        <td id=\"T_8752cd00_814c_11ed_bdbb_96000040dfb6row1_col2\" class=\"data row1 col2\" >4.54%</td>\n",
       "                        <td id=\"T_8752cd00_814c_11ed_bdbb_96000040dfb6row1_col3\" class=\"data row1 col3\" >4.23%</td>\n",
       "                        <td id=\"T_8752cd00_814c_11ed_bdbb_96000040dfb6row1_col4\" class=\"data row1 col4\" >5.21%</td>\n",
       "                        <td id=\"T_8752cd00_814c_11ed_bdbb_96000040dfb6row1_col5\" class=\"data row1 col5\" >3.74%</td>\n",
       "                        <td id=\"T_8752cd00_814c_11ed_bdbb_96000040dfb6row1_col6\" class=\"data row1 col6\" ></td>\n",
       "            </tr>\n",
       "            <tr>\n",
       "                        <th id=\"T_8752cd00_814c_11ed_bdbb_96000040dfb6level0_row2\" class=\"row_heading level0 row2\" >2020-09-19</th>\n",
       "                        <td id=\"T_8752cd00_814c_11ed_bdbb_96000040dfb6row2_col0\" class=\"data row2 col0\" >100.00%</td>\n",
       "                        <td id=\"T_8752cd00_814c_11ed_bdbb_96000040dfb6row2_col1\" class=\"data row2 col1\" >1.84%</td>\n",
       "                        <td id=\"T_8752cd00_814c_11ed_bdbb_96000040dfb6row2_col2\" class=\"data row2 col2\" >3.55%</td>\n",
       "                        <td id=\"T_8752cd00_814c_11ed_bdbb_96000040dfb6row2_col3\" class=\"data row2 col3\" >4.71%</td>\n",
       "                        <td id=\"T_8752cd00_814c_11ed_bdbb_96000040dfb6row2_col4\" class=\"data row2 col4\" >3.49%</td>\n",
       "                        <td id=\"T_8752cd00_814c_11ed_bdbb_96000040dfb6row2_col5\" class=\"data row2 col5\" ></td>\n",
       "                        <td id=\"T_8752cd00_814c_11ed_bdbb_96000040dfb6row2_col6\" class=\"data row2 col6\" ></td>\n",
       "            </tr>\n",
       "            <tr>\n",
       "                        <th id=\"T_8752cd00_814c_11ed_bdbb_96000040dfb6level0_row3\" class=\"row_heading level0 row3\" >2020-09-20</th>\n",
       "                        <td id=\"T_8752cd00_814c_11ed_bdbb_96000040dfb6row3_col0\" class=\"data row3 col0\" >100.00%</td>\n",
       "                        <td id=\"T_8752cd00_814c_11ed_bdbb_96000040dfb6row3_col1\" class=\"data row3 col1\" >2.44%</td>\n",
       "                        <td id=\"T_8752cd00_814c_11ed_bdbb_96000040dfb6row3_col2\" class=\"data row3 col2\" >4.34%</td>\n",
       "                        <td id=\"T_8752cd00_814c_11ed_bdbb_96000040dfb6row3_col3\" class=\"data row3 col3\" >2.38%</td>\n",
       "                        <td id=\"T_8752cd00_814c_11ed_bdbb_96000040dfb6row3_col4\" class=\"data row3 col4\" ></td>\n",
       "                        <td id=\"T_8752cd00_814c_11ed_bdbb_96000040dfb6row3_col5\" class=\"data row3 col5\" ></td>\n",
       "                        <td id=\"T_8752cd00_814c_11ed_bdbb_96000040dfb6row3_col6\" class=\"data row3 col6\" ></td>\n",
       "            </tr>\n",
       "            <tr>\n",
       "                        <th id=\"T_8752cd00_814c_11ed_bdbb_96000040dfb6level0_row4\" class=\"row_heading level0 row4\" >2020-09-21</th>\n",
       "                        <td id=\"T_8752cd00_814c_11ed_bdbb_96000040dfb6row4_col0\" class=\"data row4 col0\" >100.00%</td>\n",
       "                        <td id=\"T_8752cd00_814c_11ed_bdbb_96000040dfb6row4_col1\" class=\"data row4 col1\" >1.89%</td>\n",
       "                        <td id=\"T_8752cd00_814c_11ed_bdbb_96000040dfb6row4_col2\" class=\"data row4 col2\" >2.99%</td>\n",
       "                        <td id=\"T_8752cd00_814c_11ed_bdbb_96000040dfb6row4_col3\" class=\"data row4 col3\" ></td>\n",
       "                        <td id=\"T_8752cd00_814c_11ed_bdbb_96000040dfb6row4_col4\" class=\"data row4 col4\" ></td>\n",
       "                        <td id=\"T_8752cd00_814c_11ed_bdbb_96000040dfb6row4_col5\" class=\"data row4 col5\" ></td>\n",
       "                        <td id=\"T_8752cd00_814c_11ed_bdbb_96000040dfb6row4_col6\" class=\"data row4 col6\" ></td>\n",
       "            </tr>\n",
       "            <tr>\n",
       "                        <th id=\"T_8752cd00_814c_11ed_bdbb_96000040dfb6level0_row5\" class=\"row_heading level0 row5\" >2020-09-22</th>\n",
       "                        <td id=\"T_8752cd00_814c_11ed_bdbb_96000040dfb6row5_col0\" class=\"data row5 col0\" >100.00%</td>\n",
       "                        <td id=\"T_8752cd00_814c_11ed_bdbb_96000040dfb6row5_col1\" class=\"data row5 col1\" >0.85%</td>\n",
       "                        <td id=\"T_8752cd00_814c_11ed_bdbb_96000040dfb6row5_col2\" class=\"data row5 col2\" ></td>\n",
       "                        <td id=\"T_8752cd00_814c_11ed_bdbb_96000040dfb6row5_col3\" class=\"data row5 col3\" ></td>\n",
       "                        <td id=\"T_8752cd00_814c_11ed_bdbb_96000040dfb6row5_col4\" class=\"data row5 col4\" ></td>\n",
       "                        <td id=\"T_8752cd00_814c_11ed_bdbb_96000040dfb6row5_col5\" class=\"data row5 col5\" ></td>\n",
       "                        <td id=\"T_8752cd00_814c_11ed_bdbb_96000040dfb6row5_col6\" class=\"data row5 col6\" ></td>\n",
       "            </tr>\n",
       "            <tr>\n",
       "                        <th id=\"T_8752cd00_814c_11ed_bdbb_96000040dfb6level0_row6\" class=\"row_heading level0 row6\" >2020-09-23</th>\n",
       "                        <td id=\"T_8752cd00_814c_11ed_bdbb_96000040dfb6row6_col0\" class=\"data row6 col0\" >100.00%</td>\n",
       "                        <td id=\"T_8752cd00_814c_11ed_bdbb_96000040dfb6row6_col1\" class=\"data row6 col1\" ></td>\n",
       "                        <td id=\"T_8752cd00_814c_11ed_bdbb_96000040dfb6row6_col2\" class=\"data row6 col2\" ></td>\n",
       "                        <td id=\"T_8752cd00_814c_11ed_bdbb_96000040dfb6row6_col3\" class=\"data row6 col3\" ></td>\n",
       "                        <td id=\"T_8752cd00_814c_11ed_bdbb_96000040dfb6row6_col4\" class=\"data row6 col4\" ></td>\n",
       "                        <td id=\"T_8752cd00_814c_11ed_bdbb_96000040dfb6row6_col5\" class=\"data row6 col5\" ></td>\n",
       "                        <td id=\"T_8752cd00_814c_11ed_bdbb_96000040dfb6row6_col6\" class=\"data row6 col6\" ></td>\n",
       "            </tr>\n",
       "    </tbody></table>"
      ],
      "text/plain": [
       "<pandas.io.formats.style.Styler at 0x7f9a78225ac8>"
      ]
     },
     "execution_count": 18,
     "metadata": {},
     "output_type": "execute_result"
    }
   ],
   "source": [
    "cohort_retention(period=\"2020-09-17\", frame=df, reg_date='reg_ts', auth_date='auth_ts', cus_id='uid')"
   ]
  },
  {
   "cell_type": "markdown",
   "metadata": {},
   "source": [
    "      \n",
    "    \n",
    "    \n",
    "    "
   ]
  },
  {
   "cell_type": "markdown",
   "metadata": {},
   "source": [
    "        "
   ]
  },
  {
   "cell_type": "markdown",
   "metadata": {},
   "source": [
    "<div class=\"alert alert-block alert-danger\"\n",
    "<b>\n",
    "<ol>\n",
    "    \n",
    "**Задача 2**\n",
    "    \n",
    "**Имеются результаты A/B теста, в котором двум группам пользователей предлагались различные наборы акционных предложений.** **Известно, что ARPU в тестовой группе выше на 5%, чем в контрольной. При этом в контрольной группе 1928 игроков из 202103** **оказались платящими, а в тестовой – 1805 из 202667.**\n",
    "\n",
    "**Какой набор предложений можно считать лучшим? Какие метрики стоит проанализировать для принятия правильного решения и как?**       \n",
    "    \n",
    "</ol>\n",
    "</b>\n",
    "</div>"
   ]
  },
  {
   "cell_type": "markdown",
   "metadata": {},
   "source": [
    "<div class=\"alert alert-block alert-info\"\n",
    "<b>\n",
    "\n",
    "Данные предоставили в виде файла, загруженного на Яндекс Диск. Подгрузим их.\n",
    "\n",
    "</b>\n",
    "</div\n"
   ]
  },
  {
   "cell_type": "code",
   "execution_count": 19,
   "metadata": {},
   "outputs": [],
   "source": [
    "# используем api \n",
    "base_url = 'https://cloud-api.yandex.net/v1/disk/public/resources/download?' \n",
    "public_key_result = 'https://disk.yandex.ru/d/SOkIsD5A8xlI7Q'  \n",
    "\n",
    "# получаем url \n",
    "final_url_result = base_url + urlencode(dict(public_key=public_key_result)) \n",
    "\n",
    "response_result = requests.get(final_url_result) \n",
    "\n",
    "download_url_result = response_result.json()['href'] \n",
    "        \n",
    "# загружаем файл  \n",
    "download_response_result = requests.get(download_url_result) \n",
    "\n",
    "result = pd.read_csv(download_url_result, sep=';') "
   ]
  },
  {
   "cell_type": "markdown",
   "metadata": {},
   "source": [
    "<div class=\"alert alert-block alert-info\"\n",
    "<b>\n",
    "Посмотрим на данные.\n",
    "Таблица с результатами A/B теста имеет три столбца:\n",
    "\n",
    "* user_id - идентификатор пользователя\n",
    "* revenue - доход с пользователя\n",
    "* testgroup - тестовая группа (a либо b)\n",
    "\n",
    "</b>\n",
    "</div"
   ]
  },
  {
   "cell_type": "code",
   "execution_count": 20,
   "metadata": {},
   "outputs": [
    {
     "data": {
      "text/html": [
       "<div>\n",
       "<style scoped>\n",
       "    .dataframe tbody tr th:only-of-type {\n",
       "        vertical-align: middle;\n",
       "    }\n",
       "\n",
       "    .dataframe tbody tr th {\n",
       "        vertical-align: top;\n",
       "    }\n",
       "\n",
       "    .dataframe thead th {\n",
       "        text-align: right;\n",
       "    }\n",
       "</style>\n",
       "<table border=\"1\" class=\"dataframe\">\n",
       "  <thead>\n",
       "    <tr style=\"text-align: right;\">\n",
       "      <th></th>\n",
       "      <th>user_id</th>\n",
       "      <th>revenue</th>\n",
       "      <th>testgroup</th>\n",
       "    </tr>\n",
       "  </thead>\n",
       "  <tbody>\n",
       "    <tr>\n",
       "      <th>0</th>\n",
       "      <td>1</td>\n",
       "      <td>0</td>\n",
       "      <td>b</td>\n",
       "    </tr>\n",
       "    <tr>\n",
       "      <th>1</th>\n",
       "      <td>2</td>\n",
       "      <td>0</td>\n",
       "      <td>a</td>\n",
       "    </tr>\n",
       "    <tr>\n",
       "      <th>2</th>\n",
       "      <td>3</td>\n",
       "      <td>0</td>\n",
       "      <td>a</td>\n",
       "    </tr>\n",
       "    <tr>\n",
       "      <th>3</th>\n",
       "      <td>4</td>\n",
       "      <td>0</td>\n",
       "      <td>b</td>\n",
       "    </tr>\n",
       "    <tr>\n",
       "      <th>4</th>\n",
       "      <td>5</td>\n",
       "      <td>0</td>\n",
       "      <td>b</td>\n",
       "    </tr>\n",
       "  </tbody>\n",
       "</table>\n",
       "</div>"
      ],
      "text/plain": [
       "   user_id  revenue testgroup\n",
       "0        1        0         b\n",
       "1        2        0         a\n",
       "2        3        0         a\n",
       "3        4        0         b\n",
       "4        5        0         b"
      ]
     },
     "execution_count": 20,
     "metadata": {},
     "output_type": "execute_result"
    }
   ],
   "source": [
    "result.head()"
   ]
  },
  {
   "cell_type": "markdown",
   "metadata": {},
   "source": [
    "<div class=\"alert alert-block alert-info\"\n",
    "<b>\n",
    "\n",
    "Проверим типы данных, наличие пустых значений и дубликатов \n",
    "\n",
    "</b>\n",
    "</div"
   ]
  },
  {
   "cell_type": "code",
   "execution_count": 21,
   "metadata": {},
   "outputs": [
    {
     "name": "stdout",
     "output_type": "stream",
     "text": [
      "<class 'pandas.core.frame.DataFrame'>\n",
      "RangeIndex: 404770 entries, 0 to 404769\n",
      "Data columns (total 3 columns):\n",
      " #   Column     Non-Null Count   Dtype \n",
      "---  ------     --------------   ----- \n",
      " 0   user_id    404770 non-null  int64 \n",
      " 1   revenue    404770 non-null  int64 \n",
      " 2   testgroup  404770 non-null  object\n",
      "dtypes: int64(2), object(1)\n",
      "memory usage: 9.3+ MB\n"
     ]
    }
   ],
   "source": [
    "result.info()"
   ]
  },
  {
   "cell_type": "code",
   "execution_count": 22,
   "metadata": {},
   "outputs": [
    {
     "data": {
      "text/plain": [
       "0"
      ]
     },
     "execution_count": 22,
     "metadata": {},
     "output_type": "execute_result"
    }
   ],
   "source": [
    "result.duplicated().sum()"
   ]
  },
  {
   "cell_type": "markdown",
   "metadata": {},
   "source": [
    "<div class=\"alert alert-block alert-info\"\n",
    "<b>\n",
    "\n",
    "## **Conversion Rate**\n",
    "\n",
    "**По заданию предлагается выбрать необходимые метрики для анализа.Так как располагаем данными с доходом от каждого пользователя, поработаем с конверсией в покупку.**\n",
    "\n",
    "**Однако для начала проверим, сколько имеем пользователей в каждой из групп.**\n",
    "\n",
    "</b>\n",
    "</div\n"
   ]
  },
  {
   "cell_type": "code",
   "execution_count": 23,
   "metadata": {},
   "outputs": [
    {
     "data": {
      "text/html": [
       "<div>\n",
       "<style scoped>\n",
       "    .dataframe tbody tr th:only-of-type {\n",
       "        vertical-align: middle;\n",
       "    }\n",
       "\n",
       "    .dataframe tbody tr th {\n",
       "        vertical-align: top;\n",
       "    }\n",
       "\n",
       "    .dataframe thead th {\n",
       "        text-align: right;\n",
       "    }\n",
       "</style>\n",
       "<table border=\"1\" class=\"dataframe\">\n",
       "  <thead>\n",
       "    <tr style=\"text-align: right;\">\n",
       "      <th></th>\n",
       "      <th>testgroup</th>\n",
       "      <th>user_id</th>\n",
       "    </tr>\n",
       "  </thead>\n",
       "  <tbody>\n",
       "    <tr>\n",
       "      <th>0</th>\n",
       "      <td>a</td>\n",
       "      <td>202103</td>\n",
       "    </tr>\n",
       "    <tr>\n",
       "      <th>1</th>\n",
       "      <td>b</td>\n",
       "      <td>202667</td>\n",
       "    </tr>\n",
       "  </tbody>\n",
       "</table>\n",
       "</div>"
      ],
      "text/plain": [
       "  testgroup  user_id\n",
       "0         a   202103\n",
       "1         b   202667"
      ]
     },
     "execution_count": 23,
     "metadata": {},
     "output_type": "execute_result"
    }
   ],
   "source": [
    "#общее число пользователей\n",
    "all_users = result.groupby('testgroup',as_index=False).agg({'user_id':'nunique'})\n",
    "all_users"
   ]
  },
  {
   "cell_type": "code",
   "execution_count": 24,
   "metadata": {},
   "outputs": [
    {
     "data": {
      "text/html": [
       "<div>\n",
       "<style scoped>\n",
       "    .dataframe tbody tr th:only-of-type {\n",
       "        vertical-align: middle;\n",
       "    }\n",
       "\n",
       "    .dataframe tbody tr th {\n",
       "        vertical-align: top;\n",
       "    }\n",
       "\n",
       "    .dataframe thead th {\n",
       "        text-align: right;\n",
       "    }\n",
       "</style>\n",
       "<table border=\"1\" class=\"dataframe\">\n",
       "  <thead>\n",
       "    <tr style=\"text-align: right;\">\n",
       "      <th></th>\n",
       "      <th>testgroup</th>\n",
       "      <th>user_id</th>\n",
       "    </tr>\n",
       "  </thead>\n",
       "  <tbody>\n",
       "    <tr>\n",
       "      <th>0</th>\n",
       "      <td>a</td>\n",
       "      <td>1928</td>\n",
       "    </tr>\n",
       "    <tr>\n",
       "      <th>1</th>\n",
       "      <td>b</td>\n",
       "      <td>1805</td>\n",
       "    </tr>\n",
       "  </tbody>\n",
       "</table>\n",
       "</div>"
      ],
      "text/plain": [
       "  testgroup  user_id\n",
       "0         a     1928\n",
       "1         b     1805"
      ]
     },
     "execution_count": 24,
     "metadata": {},
     "output_type": "execute_result"
    }
   ],
   "source": [
    "#число пользователей, которые выполнили целевое действие (сделали покупку)\n",
    "purch = result.query('revenue>0').groupby('testgroup',as_index=False).agg({'user_id':'nunique'})\n",
    "purch"
   ]
  },
  {
   "cell_type": "code",
   "execution_count": 25,
   "metadata": {},
   "outputs": [],
   "source": [
    "#переименуем колонку с пользователями \n",
    "all_users = all_users.rename(columns={'user_id':'all_users'})"
   ]
  },
  {
   "cell_type": "code",
   "execution_count": 26,
   "metadata": {},
   "outputs": [
    {
     "data": {
      "text/html": [
       "<div>\n",
       "<style scoped>\n",
       "    .dataframe tbody tr th:only-of-type {\n",
       "        vertical-align: middle;\n",
       "    }\n",
       "\n",
       "    .dataframe tbody tr th {\n",
       "        vertical-align: top;\n",
       "    }\n",
       "\n",
       "    .dataframe thead th {\n",
       "        text-align: right;\n",
       "    }\n",
       "</style>\n",
       "<table border=\"1\" class=\"dataframe\">\n",
       "  <thead>\n",
       "    <tr style=\"text-align: right;\">\n",
       "      <th></th>\n",
       "      <th>testgroup</th>\n",
       "      <th>all_users</th>\n",
       "      <th>user_id</th>\n",
       "    </tr>\n",
       "  </thead>\n",
       "  <tbody>\n",
       "    <tr>\n",
       "      <th>0</th>\n",
       "      <td>a</td>\n",
       "      <td>202103</td>\n",
       "      <td>1928</td>\n",
       "    </tr>\n",
       "    <tr>\n",
       "      <th>1</th>\n",
       "      <td>b</td>\n",
       "      <td>202667</td>\n",
       "      <td>1805</td>\n",
       "    </tr>\n",
       "  </tbody>\n",
       "</table>\n",
       "</div>"
      ],
      "text/plain": [
       "  testgroup  all_users  user_id\n",
       "0         a     202103     1928\n",
       "1         b     202667     1805"
      ]
     },
     "execution_count": 26,
     "metadata": {},
     "output_type": "execute_result"
    }
   ],
   "source": [
    "#объединим датафреймы \n",
    "conv = all_users.merge(purch,on='testgroup')\n",
    "conv"
   ]
  },
  {
   "cell_type": "markdown",
   "metadata": {},
   "source": [
    "<div class=\"alert alert-block alert-info\"\n",
    "<b>\n",
    "\n",
    "Визуализируем результат\n",
    "\n",
    "</b>\n",
    "</div"
   ]
  },
  {
   "cell_type": "code",
   "execution_count": 27,
   "metadata": {},
   "outputs": [
    {
     "data": {
      "image/png": "[encoded data removed]",
      "text/plain": [
       "<Figure size 864x288 with 1 Axes>"
      ]
     },
     "metadata": {
      "needs_background": "light"
     },
     "output_type": "display_data"
    }
   ],
   "source": [
    "plt.figure(figsize=(12, 4))\n",
    "sns.barplot(x='all_users', y='testgroup', data=conv)\n",
    "\n",
    "for i in range(len(conv)):\n",
    "    plt.text(s = conv['all_users'][i],\n",
    "             x = conv['all_users'][i]-110000,\n",
    "             y = i,\n",
    "             color = 'black',\n",
    "             fontsize = 20,\n",
    "             family = 'serif')\n",
    "\n",
    "plt.title(label = 'Number of users',\n",
    "          color = 'black',\n",
    "          fontsize = 22,\n",
    "          x = 0.5,\n",
    "          y = 1.1,\n",
    "          family = 'serif')\n",
    "\n",
    "plt.yticks(color = 'black',\n",
    "           fontsize = 20,\n",
    "           family = 'serif')\n",
    "plt.show()"
   ]
  },
  {
   "cell_type": "markdown",
   "metadata": {},
   "source": [
    "<div class=\"alert alert-block alert-info\"\n",
    "<b>\n",
    "Число пользователей примерно равно. Так и должно быть.\n",
    "</b>\n",
    "</div"
   ]
  },
  {
   "cell_type": "code",
   "execution_count": 28,
   "metadata": {},
   "outputs": [
    {
     "data": {
      "text/html": [
       "<div>\n",
       "<style scoped>\n",
       "    .dataframe tbody tr th:only-of-type {\n",
       "        vertical-align: middle;\n",
       "    }\n",
       "\n",
       "    .dataframe tbody tr th {\n",
       "        vertical-align: top;\n",
       "    }\n",
       "\n",
       "    .dataframe thead th {\n",
       "        text-align: right;\n",
       "    }\n",
       "</style>\n",
       "<table border=\"1\" class=\"dataframe\">\n",
       "  <thead>\n",
       "    <tr style=\"text-align: right;\">\n",
       "      <th></th>\n",
       "      <th>testgroup</th>\n",
       "      <th>all_users</th>\n",
       "      <th>user_id</th>\n",
       "      <th>conversion</th>\n",
       "    </tr>\n",
       "  </thead>\n",
       "  <tbody>\n",
       "    <tr>\n",
       "      <th>0</th>\n",
       "      <td>a</td>\n",
       "      <td>202103</td>\n",
       "      <td>1928</td>\n",
       "      <td>0.95</td>\n",
       "    </tr>\n",
       "    <tr>\n",
       "      <th>1</th>\n",
       "      <td>b</td>\n",
       "      <td>202667</td>\n",
       "      <td>1805</td>\n",
       "      <td>0.89</td>\n",
       "    </tr>\n",
       "  </tbody>\n",
       "</table>\n",
       "</div>"
      ],
      "text/plain": [
       "  testgroup  all_users  user_id  conversion\n",
       "0         a     202103     1928        0.95\n",
       "1         b     202667     1805        0.89"
      ]
     },
     "execution_count": 28,
     "metadata": {},
     "output_type": "execute_result"
    }
   ],
   "source": [
    "#посчитаем конверсию\n",
    "conv['conversion'] = ((conv.user_id / conv.all_users)*100).round(2)\n",
    "conv"
   ]
  },
  {
   "cell_type": "code",
   "execution_count": 29,
   "metadata": {},
   "outputs": [
    {
     "data": {
      "text/plain": [
       "0.06"
      ]
     },
     "execution_count": 29,
     "metadata": {},
     "output_type": "execute_result"
    }
   ],
   "source": [
    "#посчитаем величину разницы конверсии в разбивке по группе\n",
    "(conv.conversion[0] - conv.conversion[1]).round(2)"
   ]
  },
  {
   "cell_type": "markdown",
   "metadata": {},
   "source": [
    "<div class=\"alert alert-block alert-info\"\n",
    "<b>\n",
    "\n",
    "Визуализируем результат для наглядности\n",
    "\n",
    "</b>\n",
    "</div"
   ]
  },
  {
   "cell_type": "code",
   "execution_count": 30,
   "metadata": {},
   "outputs": [
    {
     "data": {
      "image/png": "[encoded data removed]",
      "text/plain": [
       "<Figure size 864x288 with 1 Axes>"
      ]
     },
     "metadata": {
      "needs_background": "light"
     },
     "output_type": "display_data"
    }
   ],
   "source": [
    "plt.figure(figsize=(12, 4))\n",
    "sns.barplot(x='conversion', y='testgroup', data=conv)\n",
    "\n",
    "for i in range(len(conv)):\n",
    "    plt.text(s = conv['conversion'][i],\n",
    "             x = conv['conversion'][i]-0.5,\n",
    "             y = i,\n",
    "             color = 'black',\n",
    "             fontsize = 20,\n",
    "             family = 'serif')\n",
    "\n",
    "plt.title(label = 'Conversion Rate (%)',\n",
    "          color = 'black',\n",
    "          fontsize = 22,\n",
    "          x = 0.5,\n",
    "          y = 1.1,\n",
    "          family = 'serif')\n",
    "\n",
    "plt.yticks(color = 'black',\n",
    "           fontsize = 20,\n",
    "           family = 'serif')\n",
    "plt.show()\n"
   ]
  },
  {
   "cell_type": "markdown",
   "metadata": {},
   "source": [
    "<div class=\"alert alert-block alert-info\"\n",
    "<b>\n",
    "\n",
    "Нетрудно заметить, что конверсия в группе a больше, чем в группе b на 0,06%.\n",
    "\n",
    "Теперь необходимо проверить статистическую значимость.\n",
    "\n",
    "Поскольку работаем с конверсией, которая является категориальной переменной, необходимо использовать тест на независимость Хи-квадрат.\n",
    "\n",
    "Нулевая гипотеза предполагает, что разница между средними значениями показателя в сегментах незначительна.\n",
    "\n",
    "</b>\n",
    "</div"
   ]
  },
  {
   "cell_type": "code",
   "execution_count": 31,
   "metadata": {},
   "outputs": [
    {
     "data": {
      "text/html": [
       "<div>\n",
       "<style scoped>\n",
       "    .dataframe tbody tr th:only-of-type {\n",
       "        vertical-align: middle;\n",
       "    }\n",
       "\n",
       "    .dataframe tbody tr th {\n",
       "        vertical-align: top;\n",
       "    }\n",
       "\n",
       "    .dataframe thead th {\n",
       "        text-align: right;\n",
       "    }\n",
       "</style>\n",
       "<table border=\"1\" class=\"dataframe\">\n",
       "  <thead>\n",
       "    <tr style=\"text-align: right;\">\n",
       "      <th></th>\n",
       "      <th>user_id</th>\n",
       "      <th>revenue</th>\n",
       "      <th>testgroup</th>\n",
       "      <th>purchase</th>\n",
       "    </tr>\n",
       "  </thead>\n",
       "  <tbody>\n",
       "    <tr>\n",
       "      <th>0</th>\n",
       "      <td>1</td>\n",
       "      <td>0</td>\n",
       "      <td>b</td>\n",
       "      <td>no_purchase</td>\n",
       "    </tr>\n",
       "    <tr>\n",
       "      <th>1</th>\n",
       "      <td>2</td>\n",
       "      <td>0</td>\n",
       "      <td>a</td>\n",
       "      <td>no_purchase</td>\n",
       "    </tr>\n",
       "    <tr>\n",
       "      <th>2</th>\n",
       "      <td>3</td>\n",
       "      <td>0</td>\n",
       "      <td>a</td>\n",
       "      <td>no_purchase</td>\n",
       "    </tr>\n",
       "    <tr>\n",
       "      <th>3</th>\n",
       "      <td>4</td>\n",
       "      <td>0</td>\n",
       "      <td>b</td>\n",
       "      <td>no_purchase</td>\n",
       "    </tr>\n",
       "    <tr>\n",
       "      <th>4</th>\n",
       "      <td>5</td>\n",
       "      <td>0</td>\n",
       "      <td>b</td>\n",
       "      <td>no_purchase</td>\n",
       "    </tr>\n",
       "  </tbody>\n",
       "</table>\n",
       "</div>"
      ],
      "text/plain": [
       "   user_id  revenue testgroup     purchase\n",
       "0        1        0         b  no_purchase\n",
       "1        2        0         a  no_purchase\n",
       "2        3        0         a  no_purchase\n",
       "3        4        0         b  no_purchase\n",
       "4        5        0         b  no_purchase"
      ]
     },
     "execution_count": 31,
     "metadata": {},
     "output_type": "execute_result"
    }
   ],
   "source": [
    "#для удобства добавим новый столбец в исходный датафрейм, где будет указываться наличие/отсутствие покупки у пользователей\n",
    "pur = []\n",
    "for i in result.revenue:\n",
    "    if i == 0:\n",
    "        pur.append('no_purchase')\n",
    "    else:\n",
    "        pur.append('purchase')\n",
    "result['purchase'] = pur\n",
    "result.head()"
   ]
  },
  {
   "cell_type": "code",
   "execution_count": 32,
   "metadata": {},
   "outputs": [
    {
     "data": {
      "text/html": [
       "<div>\n",
       "<style scoped>\n",
       "    .dataframe tbody tr th:only-of-type {\n",
       "        vertical-align: middle;\n",
       "    }\n",
       "\n",
       "    .dataframe tbody tr th {\n",
       "        vertical-align: top;\n",
       "    }\n",
       "\n",
       "    .dataframe thead th {\n",
       "        text-align: right;\n",
       "    }\n",
       "</style>\n",
       "<table border=\"1\" class=\"dataframe\">\n",
       "  <thead>\n",
       "    <tr style=\"text-align: right;\">\n",
       "      <th>purchase</th>\n",
       "      <th>no_purchase</th>\n",
       "      <th>purchase</th>\n",
       "    </tr>\n",
       "    <tr>\n",
       "      <th>testgroup</th>\n",
       "      <th></th>\n",
       "      <th></th>\n",
       "    </tr>\n",
       "  </thead>\n",
       "  <tbody>\n",
       "    <tr>\n",
       "      <th>a</th>\n",
       "      <td>200175</td>\n",
       "      <td>1928</td>\n",
       "    </tr>\n",
       "    <tr>\n",
       "      <th>b</th>\n",
       "      <td>200862</td>\n",
       "      <td>1805</td>\n",
       "    </tr>\n",
       "  </tbody>\n",
       "</table>\n",
       "</div>"
      ],
      "text/plain": [
       "purchase   no_purchase  purchase\n",
       "testgroup                       \n",
       "a               200175      1928\n",
       "b               200862      1805"
      ]
     },
     "execution_count": 32,
     "metadata": {},
     "output_type": "execute_result"
    }
   ],
   "source": [
    "#соберем таблицу сопряженности\n",
    "for_chi2 = pd.crosstab(result['testgroup'], result['purchase'])\n",
    "for_chi2"
   ]
  },
  {
   "cell_type": "code",
   "execution_count": 33,
   "metadata": {},
   "outputs": [
    {
     "data": {
      "image/png": "[encoded data removed]",
      "text/plain": [
       "<Figure size 864x288 with 1 Axes>"
      ]
     },
     "metadata": {
      "needs_background": "light"
     },
     "output_type": "display_data"
    },
    {
     "name": "stdout",
     "output_type": "stream",
     "text": [
      "Нулевая гипотеза отклоняется, есть статистически значимые различия\n"
     ]
    }
   ],
   "source": [
    "#проведем тест на независимость Хи-квадрат \n",
    "a = 0.05\n",
    "p = (stats.chi2_contingency(for_chi2)[1]).round(3)\n",
    "\n",
    "\n",
    "\n",
    "fig, ax = plt.subplots(figsize=(12, 4))\n",
    "ax.barh([''],[p])\n",
    "\n",
    "\n",
    "ax.set_title('Chi-Square Test of Independence', color = 'black', fontsize=22, x = 0.5, y = 1.05)\n",
    "\n",
    "ax.axvline(0.05, ls='--', color='r')\n",
    "\n",
    "ax.set(xlim=[0, 0.06], xlabel='p-value')\n",
    "\n",
    "ax.text(0.015, 0.015, p, color='black', fontsize=15)\n",
    "\n",
    "\n",
    "plt.show()\n",
    "\n",
    "if p < a:\n",
    "    print('Нулевая гипотеза отклоняется, есть статистически значимые различия')\n",
    "else:\n",
    "    print('Нулевая гипотеза не отклоняется, нет статистически значимые различия')"
   ]
  },
  {
   "cell_type": "markdown",
   "metadata": {},
   "source": [
    "<div class=\"alert alert-block alert-info\"\n",
    "<b>\n",
    "\n",
    "Таким образом, можно сделать вывод о том, что различия в конверсии в группе a и b статистически значимы. \n",
    "\n",
    "Это значит, что набор акционных предложений для контрольной группы a положительно повлиял на пользователей,\n",
    "побудив их совершать покупки. \n",
    "\n",
    "</b>\n",
    "</div"
   ]
  },
  {
   "cell_type": "markdown",
   "metadata": {},
   "source": [
    "   "
   ]
  },
  {
   "cell_type": "markdown",
   "metadata": {},
   "source": [
    "<div class=\"alert alert-block alert-info\"\n",
    "<b>\n",
    "\n",
    "## **ARPPU & ARPU**\n",
    "\n",
    "**В результатах A/B теста имеется revenue.** **Поэтому поработаем с показателями доходов: ARPPU и ARPU.** \n",
    "\n",
    "**Однако прежде чем приступить к расчету данных метрик, посмотрим как распределяется revenue.**\n",
    "\n",
    "</b>\n",
    "</div"
   ]
  },
  {
   "cell_type": "code",
   "execution_count": 34,
   "metadata": {},
   "outputs": [
    {
     "data": {
      "image/png": "[encoded data removed]",
      "text/plain": [
       "<Figure size 1440x288 with 1 Axes>"
      ]
     },
     "metadata": {
      "needs_background": "light"
     },
     "output_type": "display_data"
    },
    {
     "data": {
      "image/png": "[encoded data removed]",
      "text/plain": [
       "<Figure size 1440x288 with 1 Axes>"
      ]
     },
     "metadata": {
      "needs_background": "light"
     },
     "output_type": "display_data"
    },
    {
     "data": {
      "image/png": "[encoded data removed]",
      "text/plain": [
       "<Figure size 1440x288 with 1 Axes>"
      ]
     },
     "metadata": {
      "needs_background": "light"
     },
     "output_type": "display_data"
    },
    {
     "name": "stdout",
     "output_type": "stream",
     "text": [
      "Минимальный доход в группе a: 200 \n",
      "Медианный доход в группе a: 311.0 \n",
      "Максимальный доход в группе a: 37433 \n",
      "\n",
      "Минимальный доход в группе b: 2000 \n",
      "Медианный доход в группе b: 3022.0 \n",
      "Максимальный доход в группе b: 4000\n"
     ]
    }
   ],
   "source": [
    "plt.figure(figsize=(20, 4))\n",
    "sns.boxplot(data=result.query(\"testgroup == 'a' & revenue>0\")[['revenue']], orient=\"h\")\n",
    "plt.title(label = 'Revenue in a group',\n",
    "          color = 'black',\n",
    "          fontsize = 22,\n",
    "          x = 0.5,\n",
    "          y = 1.1,\n",
    "          family = 'serif')\n",
    "plt.yticks(color = 'black',\n",
    "           fontsize = 20,\n",
    "           family = 'serif')\n",
    "plt.show()\n",
    "\n",
    "\n",
    "plt.figure(figsize=(20, 4))\n",
    "sns.boxplot(data=result.query(\"testgroup == 'a' & 0<revenue<15000\")[['revenue']], orient=\"h\")\n",
    "plt.title(label = 'Revenue in a group(detailed)',\n",
    "          color = 'black',\n",
    "          fontsize = 22,\n",
    "          x = 0.5,\n",
    "          y = 1.1,\n",
    "          family = 'serif')\n",
    "plt.yticks(color = 'black',\n",
    "           fontsize = 20,\n",
    "           family = 'serif')\n",
    "plt.show()\n",
    "\n",
    "\n",
    "plt.figure(figsize=(20, 4))\n",
    "sns.boxplot(data=result.query(\"testgroup == 'b' & revenue > 0\")[['revenue']], orient=\"h\")\n",
    "plt.title(label = 'Revenue in b group',\n",
    "          color = 'black',\n",
    "          fontsize = 22,\n",
    "          x = 0.5,\n",
    "          y = 1.1,\n",
    "          family = 'serif')\n",
    "plt.yticks(color = 'black',\n",
    "           fontsize = 20,\n",
    "           family = 'serif')\n",
    "plt.show()\n",
    "\n",
    "print(\n",
    "'Минимальный доход в группе a:',result.query('testgroup == \"a\" & revenue > 0')['revenue'].min(),   \n",
    "'\\nМедианный доход в группе a:',result.query('testgroup == \"a\" & revenue > 0')['revenue'].median(),   \n",
    "'\\nМаксимальный доход в группе a:',result.query('testgroup == \"a\" & revenue > 0')['revenue'].max(),\n",
    "\n",
    "'\\n\\nМинимальный доход в группе b:',result.query('testgroup == \"b\" & revenue > 0')['revenue'].min(),  \n",
    "'\\nМедианный доход в группе b:',result.query('testgroup == \"b\" & revenue > 0')['revenue'].median(), \n",
    "'\\nМаксимальный доход в группе b:',result.query('testgroup == \"b\" & revenue > 0')['revenue'].max()\n",
    ")"
   ]
  },
  {
   "cell_type": "markdown",
   "metadata": {},
   "source": [
    "<div class=\"alert alert-block alert-info\"\n",
    "<b>\n",
    "\n",
    "Boxplot показывает минимум, первый квартиль, медиану, третий квартиль и максимум. \n",
    "\n",
    "Сразу заметно, что медианное значение дохода в группе a примерно в 10 раз меньше, чем в группе b. \n",
    "\n",
    "Размах в группе b много меньше, чем в группе a. В группе а распредление неравномерное - покупки, в основном, либо слишком дорогие, либо совсем недорогие. В группе b другая картина - распределение довольно равномерное.\n",
    "\n",
    "Теперь посмотрим на **ARPPU** и **ARPU.**\n",
    "\n",
    "</b>\n",
    "</div"
   ]
  },
  {
   "cell_type": "code",
   "execution_count": 35,
   "metadata": {
    "scrolled": true
   },
   "outputs": [
    {
     "data": {
      "text/html": [
       "<div>\n",
       "<style scoped>\n",
       "    .dataframe tbody tr th:only-of-type {\n",
       "        vertical-align: middle;\n",
       "    }\n",
       "\n",
       "    .dataframe tbody tr th {\n",
       "        vertical-align: top;\n",
       "    }\n",
       "\n",
       "    .dataframe thead th {\n",
       "        text-align: right;\n",
       "    }\n",
       "</style>\n",
       "<table border=\"1\" class=\"dataframe\">\n",
       "  <thead>\n",
       "    <tr style=\"text-align: right;\">\n",
       "      <th></th>\n",
       "      <th>testgroup</th>\n",
       "      <th>revenue</th>\n",
       "      <th>ARPPU</th>\n",
       "      <th>ARPU</th>\n",
       "    </tr>\n",
       "  </thead>\n",
       "  <tbody>\n",
       "    <tr>\n",
       "      <th>0</th>\n",
       "      <td>a</td>\n",
       "      <td>5136189</td>\n",
       "      <td>2664.00</td>\n",
       "      <td>25.41</td>\n",
       "    </tr>\n",
       "    <tr>\n",
       "      <th>1</th>\n",
       "      <td>b</td>\n",
       "      <td>5421603</td>\n",
       "      <td>3003.66</td>\n",
       "      <td>26.75</td>\n",
       "    </tr>\n",
       "  </tbody>\n",
       "</table>\n",
       "</div>"
      ],
      "text/plain": [
       "  testgroup  revenue    ARPPU   ARPU\n",
       "0         a  5136189  2664.00  25.41\n",
       "1         b  5421603  3003.66  26.75"
      ]
     },
     "execution_count": 35,
     "metadata": {},
     "output_type": "execute_result"
    }
   ],
   "source": [
    "#число покупок\n",
    "df = result.groupby('testgroup', as_index = False) \\\n",
    "           .agg({'revenue' : 'sum'})\n",
    "#ARPPU\n",
    "df['ARPPU'] = (result\\\n",
    "                    .query('revenue > 0')\\\n",
    "                    .groupby('testgroup',as_index=False)\\\n",
    "                    .agg({'revenue':'mean'})).round(2).revenue\n",
    "#ARPU\n",
    "df['ARPU'] = (result\\\n",
    "                    .groupby('testgroup',as_index=False)\\\n",
    "                    .agg({'revenue':'mean'})).round(2).revenue\n",
    "\n",
    "df"
   ]
  },
  {
   "cell_type": "markdown",
   "metadata": {},
   "source": [
    "<div class=\"alert alert-block alert-info\"\n",
    "<b>\n",
    "\n",
    "Визуализируем результат \n",
    "\n",
    "</b>\n",
    "</div"
   ]
  },
  {
   "cell_type": "code",
   "execution_count": 36,
   "metadata": {},
   "outputs": [
    {
     "data": {
      "image/png": "[encoded data removed]",
      "text/plain": [
       "<Figure size 864x288 with 1 Axes>"
      ]
     },
     "metadata": {
      "needs_background": "light"
     },
     "output_type": "display_data"
    },
    {
     "data": {
      "image/png": "[encoded data removed]",
      "text/plain": [
       "<Figure size 864x288 with 1 Axes>"
      ]
     },
     "metadata": {
      "needs_background": "light"
     },
     "output_type": "display_data"
    },
    {
     "name": "stdout",
     "output_type": "stream",
     "text": [
      "Разница(%) ARPPU в группах: 13.0\n",
      "Разница(%) ARPU в группах: 5.0\n"
     ]
    }
   ],
   "source": [
    "plt.figure(figsize=(12, 4))\n",
    "sns.barplot(x='ARPPU', y='testgroup', data=df)\n",
    "\n",
    "for i in range(len(conv)):\n",
    "    plt.text(s = df['ARPPU'][i],\n",
    "             x = df['ARPPU'][i]-1600,\n",
    "             y = i,\n",
    "             color = 'black',\n",
    "             fontsize = 20,\n",
    "             family = 'serif')\n",
    "\n",
    "plt.title(label = 'ARPPU',\n",
    "          color = 'black',\n",
    "          fontsize = 22,\n",
    "          x = 0.5,\n",
    "          y = 1.1,\n",
    "          family = 'serif')\n",
    "\n",
    "plt.yticks(color = 'black',\n",
    "           fontsize = 20,\n",
    "           family = 'serif')\n",
    "plt.show()\n",
    "\n",
    "\n",
    "\n",
    "plt.figure(figsize=(12, 4))\n",
    "sns.barplot(x='ARPU', y='testgroup', data=df)\n",
    "\n",
    "for i in range(len(conv)):\n",
    "    plt.text(s = df['ARPU'][i],\n",
    "             x = df['ARPU'][i]-15,\n",
    "             y = i,\n",
    "             color = 'black',\n",
    "             fontsize = 20,\n",
    "             family = 'serif')\n",
    "    \n",
    "plt.title(label = 'ARPU',\n",
    "          color = 'black',\n",
    "          fontsize = 22,\n",
    "          x = 0.5,\n",
    "          y = 1.1,\n",
    "          family = 'serif')\n",
    "\n",
    "plt.yticks(color = 'black',\n",
    "           fontsize = 20,\n",
    "           family = 'serif')\n",
    "plt.show()\n",
    "print('Разница(%) ARPPU в группах:', (abs(df.ARPPU[0] - df.ARPPU[1])/df.ARPPU[0]*100).round())\n",
    "print('Разница(%) ARPU в группах:', (abs(df.ARPU[0] - df.ARPU[1])/df.ARPU[0]*100).round())"
   ]
  },
  {
   "cell_type": "markdown",
   "metadata": {},
   "source": [
    "<div class=\"alert alert-block alert-info\"\n",
    "<b>\n",
    "\n",
    "Нетрудно заметить, что ARPPU, как и ARPU в группе b больше, чем в группе a на 13% и 5% соответственно.\n",
    "\n",
    "Теперь необходимо проверить, имеем ли мы дело со статистически значимыми различиями. Используем ttest и bootstrap.\n",
    "\n",
    "ARPPU\n",
    "* T-test\n",
    "\n",
    "  Нулевая гипотеза: Разницы между ARPPU в тестовой(b) и контрольной(a) группе нет.\n",
    "</b>\n",
    "</div"
   ]
  },
  {
   "cell_type": "code",
   "execution_count": 37,
   "metadata": {},
   "outputs": [
    {
     "data": {
      "image/png": "[encoded data removed]",
      "text/plain": [
       "<Figure size 864x288 with 1 Axes>"
      ]
     },
     "metadata": {
      "needs_background": "light"
     },
     "output_type": "display_data"
    },
    {
     "name": "stdout",
     "output_type": "stream",
     "text": [
      "Нулевая гипотеза не отклоняется, нет статистически значимой разницы\n"
     ]
    }
   ],
   "source": [
    "a = 0.05\n",
    "p = (stats.ttest_ind(result.query('testgroup == \"a\" & revenue>0')['revenue'],\\\n",
    "                     result.query('testgroup == \"b\" & revenue>0')['revenue'])[1]).round(2)\n",
    "\n",
    "fig, ax = plt.subplots(figsize=(12, 4))\n",
    "ax.barh([''],[p])\n",
    "\n",
    "ax.set_title('T-test for ARPPU', color = 'black', fontsize=22, x = 0.5, y = 1.05)\n",
    "\n",
    "ax.axvline(0.05, ls='--', color='r')\n",
    "\n",
    "ax.set(xlim=[0, 0.06], xlabel='p-value')\n",
    "ax.text(0.025, 0.025, p, color='black', fontsize=15)\n",
    "\n",
    "plt.show()\n",
    "\n",
    "if p < a:\n",
    "    print('Нулевая гипотеза отклоняется, есть статистически значимая разница')\n",
    "else:\n",
    "    print('Нулевая гипотеза не отклоняется, нет статистически значимой разницы')\n"
   ]
  },
  {
   "cell_type": "markdown",
   "metadata": {},
   "source": [
    "<div class=\"alert alert-block alert-info\"\n",
    "<b>\n",
    "\n",
    "ARPPU\n",
    "* Bootstrap\n",
    "    \n",
    "    Если ноль находится вне доверительного интервала, то отличия статистически значимы, иначе нет. \n",
    "</b>\n",
    "</div"
   ]
  },
  {
   "cell_type": "code",
   "execution_count": 38,
   "metadata": {},
   "outputs": [],
   "source": [
    "from tqdm.auto import tqdm\n",
    "def get_bootstrap(\n",
    "    data_column_1, # числовые значения первой выборки\n",
    "    data_column_2, # числовые значения второй выборки\n",
    "    boot_it = 1000, # количество бутстрэп-подвыборок\n",
    "    statistic = np.mean, # интересующая нас статистика\n",
    "    bootstrap_conf_level = 0.95 # уровень значимости\n",
    "):\n",
    "    boot_data = []\n",
    "    for i in tqdm(range(boot_it)): # извлекаем подвыборки\n",
    "        samples_1 = data_column_1.sample(\n",
    "            len(data_column_1), \n",
    "            replace = True # параметр возвращения\n",
    "        ).values\n",
    "        \n",
    "        samples_2 = data_column_2.sample(\n",
    "            len(data_column_1), \n",
    "            replace = True\n",
    "        ).values\n",
    "        \n",
    "        boot_data.append(statistic(samples_1)-statistic(samples_2)) # mean() - применяем статистику\n",
    "        \n",
    "    pd_boot_data = pd.DataFrame(boot_data)\n",
    "        \n",
    "    left_quant = (1 - bootstrap_conf_level)/2\n",
    "    right_quant = 1 - (1 - bootstrap_conf_level) / 2\n",
    "    quants = pd_boot_data.quantile([left_quant, right_quant])\n",
    "        \n",
    "    p_1 = norm.cdf(\n",
    "        x = 0, \n",
    "        loc = np.mean(boot_data), \n",
    "        scale = np.std(boot_data)\n",
    "    )\n",
    "    p_2 = norm.cdf(\n",
    "        x = 0, \n",
    "        loc = -np.mean(boot_data), \n",
    "        scale = np.std(boot_data)\n",
    "    )\n",
    "    p_value = min(p_1, p_2) * 2\n",
    "    \n",
    "    # Визуализация\n",
    "    _, _, bars = plt.hist(pd_boot_data[0], bins = 50)\n",
    "    \n",
    "    plt.vlines(quants,ymin=0,ymax=50,linestyle='--')\n",
    "    plt.xlabel('boot_data')\n",
    "    plt.ylabel('frequency')\n",
    "    plt.title('Histogram of boot_data ARPPU')\n",
    "    plt.show()\n",
    "       \n",
    "    return {\"boot_data\": boot_data, \n",
    "            \"quants\": quants, \n",
    "            \"p_value\": p_value}"
   ]
  },
  {
   "cell_type": "code",
   "execution_count": 39,
   "metadata": {},
   "outputs": [
    {
     "data": {
      "application/vnd.jupyter.widget-view+json": {
       "model_id": "40ebb177686e492d8481451d7aca5ed7",
       "version_major": 2,
       "version_minor": 0
      },
      "text/plain": [
       "HBox(children=(FloatProgress(value=0.0, max=1000.0), HTML(value='')))"
      ]
     },
     "metadata": {},
     "output_type": "display_data"
    },
    {
     "name": "stdout",
     "output_type": "stream",
     "text": [
      "\n"
     ]
    },
    {
     "data": {
      "image/png": "[encoded data removed]",
      "text/plain": [
       "<Figure size 432x288 with 1 Axes>"
      ]
     },
     "metadata": {
      "needs_background": "light"
     },
     "output_type": "display_data"
    },
    {
     "name": "stdout",
     "output_type": "stream",
     "text": [
      "p_value: 0.08\n"
     ]
    },
    {
     "data": {
      "text/html": [
       "<div>\n",
       "<style scoped>\n",
       "    .dataframe tbody tr th:only-of-type {\n",
       "        vertical-align: middle;\n",
       "    }\n",
       "\n",
       "    .dataframe tbody tr th {\n",
       "        vertical-align: top;\n",
       "    }\n",
       "\n",
       "    .dataframe thead th {\n",
       "        text-align: right;\n",
       "    }\n",
       "</style>\n",
       "<table border=\"1\" class=\"dataframe\">\n",
       "  <thead>\n",
       "    <tr style=\"text-align: right;\">\n",
       "      <th></th>\n",
       "      <th>0</th>\n",
       "    </tr>\n",
       "  </thead>\n",
       "  <tbody>\n",
       "    <tr>\n",
       "      <th>0.025</th>\n",
       "      <td>-708.549365</td>\n",
       "    </tr>\n",
       "    <tr>\n",
       "      <th>0.975</th>\n",
       "      <td>57.640132</td>\n",
       "    </tr>\n",
       "  </tbody>\n",
       "</table>\n",
       "</div>"
      ],
      "text/plain": [
       "                0\n",
       "0.025 -708.549365\n",
       "0.975   57.640132"
      ]
     },
     "execution_count": 39,
     "metadata": {},
     "output_type": "execute_result"
    }
   ],
   "source": [
    "booted_data_arppu = get_bootstrap(      \n",
    "    result.query('testgroup == \"a\" & revenue>0')['revenue'],\n",
    "    result.query('testgroup == \"b\" & revenue>0')['revenue'],\n",
    "    boot_it = 1000,\n",
    "    statistic = np.mean, \n",
    "    bootstrap_conf_level = 0.95)\n",
    "print(\"p_value:\", booted_data_arppu[\"p_value\"].round(2))\n",
    "booted_data_arppu[\"quants\"]"
   ]
  },
  {
   "cell_type": "markdown",
   "metadata": {},
   "source": [
    "Ноль входит в доверительный интервал, значит статистически значимых различий ARPPU в группе a и b нет."
   ]
  },
  {
   "cell_type": "markdown",
   "metadata": {},
   "source": [
    "    "
   ]
  },
  {
   "cell_type": "markdown",
   "metadata": {},
   "source": [
    "<div class=\"alert alert-block alert-info\"\n",
    "<b>\n",
    "\n",
    "ARPU\n",
    "* T-test\n",
    "\n",
    "  Нулевая гипотеза: Разницы между ARPU в тестовой(b) и контрольной(a) группе нет.\n",
    "</b>\n",
    "</div"
   ]
  },
  {
   "cell_type": "code",
   "execution_count": 40,
   "metadata": {},
   "outputs": [
    {
     "data": {
      "image/png": "[encoded data removed]",
      "text/plain": [
       "<Figure size 864x288 with 1 Axes>"
      ]
     },
     "metadata": {
      "needs_background": "light"
     },
     "output_type": "display_data"
    },
    {
     "name": "stdout",
     "output_type": "stream",
     "text": [
      "Нулевая гипотеза не отклоняется, нет статистически значимой разницы\n"
     ]
    }
   ],
   "source": [
    "a = 0.05\n",
    "p = (stats.ttest_ind(result.query('testgroup == \"a\"')['revenue'],\\\n",
    "                     result.query('testgroup == \"b\"')['revenue'])[1]).round(2)\n",
    "\n",
    "fig, ax = plt.subplots(figsize=(12, 4))\n",
    "ax.barh([''],[p])\n",
    "\n",
    "ax.set_title('T-test for ARPU', color = 'black', fontsize=22, x = 0.5, y = 1.05)\n",
    "\n",
    "ax.axvline(0.05, ls='--', color='r')\n",
    "\n",
    "ax.set(xlim=[0, 0.06], xlabel='p-value')\n",
    "ax.text(0.025, 0.025, p, color='black', fontsize=15)\n",
    "\n",
    "plt.show()\n",
    "\n",
    "if p < a:\n",
    "    print('Нулевая гипотеза отклоняется, есть статистически значимая разница')\n",
    "else:\n",
    "    print('Нулевая гипотеза не отклоняется, нет статистически значимой разницы')\n",
    "    "
   ]
  },
  {
   "cell_type": "markdown",
   "metadata": {},
   "source": [
    "<div class=\"alert alert-block alert-info\"\n",
    "<b>\n",
    "\n",
    "ARPU\n",
    "* Bootstrap\n",
    "    \n",
    "    Если ноль находится вне доверительного интервала, то отличия статистически значимы, иначе нет.  \n",
    "</b>\n",
    "</div"
   ]
  },
  {
   "cell_type": "code",
   "execution_count": 41,
   "metadata": {},
   "outputs": [],
   "source": [
    "def get_bootstrap(\n",
    "    data_column_1, # числовые значения первой выборки\n",
    "    data_column_2, # числовые значения второй выборки\n",
    "    boot_it = 1000, # количество бутстрэп-подвыборок\n",
    "    statistic = np.mean, # интересующая нас статистика\n",
    "    bootstrap_conf_level = 0.95 # уровень значимости\n",
    "):\n",
    "    boot_data = []\n",
    "    for i in tqdm(range(boot_it)): # извлекаем подвыборки\n",
    "        samples_1 = data_column_1.sample(\n",
    "            len(data_column_1), \n",
    "            replace = True # параметр возвращения\n",
    "        ).values\n",
    "        \n",
    "        samples_2 = data_column_2.sample(\n",
    "            len(data_column_1), \n",
    "            replace = True\n",
    "        ).values\n",
    "        \n",
    "        boot_data.append(statistic(samples_1)-statistic(samples_2)) # mean() - применяем статистику\n",
    "        \n",
    "    pd_boot_data = pd.DataFrame(boot_data)\n",
    "        \n",
    "    left_quant = (1 - bootstrap_conf_level)/2\n",
    "    right_quant = 1 - (1 - bootstrap_conf_level) / 2\n",
    "    quants = pd_boot_data.quantile([left_quant, right_quant])\n",
    "        \n",
    "    p_1 = norm.cdf(\n",
    "        x = 0, \n",
    "        loc = np.mean(boot_data), \n",
    "        scale = np.std(boot_data)\n",
    "    )\n",
    "    p_2 = norm.cdf(\n",
    "        x = 0, \n",
    "        loc = -np.mean(boot_data), \n",
    "        scale = np.std(boot_data)\n",
    "    )\n",
    "    p_value = min(p_1, p_2) * 2\n",
    "    \n",
    "    # Визуализация\n",
    "    _, _, bars = plt.hist(pd_boot_data[0], bins = 50)\n",
    "    \n",
    "    plt.vlines(quants,ymin=0,ymax=50,linestyle='--')\n",
    "    plt.xlabel('boot_data')\n",
    "    plt.ylabel('frequency')\n",
    "    plt.title('Histogram of boot_data')\n",
    "    plt.show()\n",
    "       \n",
    "    return {\"boot_data\": boot_data, \n",
    "            \"quants\": quants, \n",
    "            \"p_value\": p_value}"
   ]
  },
  {
   "cell_type": "code",
   "execution_count": 42,
   "metadata": {},
   "outputs": [
    {
     "data": {
      "application/vnd.jupyter.widget-view+json": {
       "model_id": "8fc2d4b77b4d455182d4c29e0fc09ecb",
       "version_major": 2,
       "version_minor": 0
      },
      "text/plain": [
       "HBox(children=(FloatProgress(value=0.0, max=1000.0), HTML(value='')))"
      ]
     },
     "metadata": {},
     "output_type": "display_data"
    },
    {
     "name": "stdout",
     "output_type": "stream",
     "text": [
      "\n"
     ]
    },
    {
     "data": {
      "image/png": "[encoded data removed]",
      "text/plain": [
       "<Figure size 432x288 with 1 Axes>"
      ]
     },
     "metadata": {
      "needs_background": "light"
     },
     "output_type": "display_data"
    },
    {
     "name": "stdout",
     "output_type": "stream",
     "text": [
      "p_value: 0.53\n"
     ]
    },
    {
     "data": {
      "text/html": [
       "<div>\n",
       "<style scoped>\n",
       "    .dataframe tbody tr th:only-of-type {\n",
       "        vertical-align: middle;\n",
       "    }\n",
       "\n",
       "    .dataframe tbody tr th {\n",
       "        vertical-align: top;\n",
       "    }\n",
       "\n",
       "    .dataframe thead th {\n",
       "        text-align: right;\n",
       "    }\n",
       "</style>\n",
       "<table border=\"1\" class=\"dataframe\">\n",
       "  <thead>\n",
       "    <tr style=\"text-align: right;\">\n",
       "      <th></th>\n",
       "      <th>0</th>\n",
       "    </tr>\n",
       "  </thead>\n",
       "  <tbody>\n",
       "    <tr>\n",
       "      <th>0.025</th>\n",
       "      <td>-5.390045</td>\n",
       "    </tr>\n",
       "    <tr>\n",
       "      <th>0.975</th>\n",
       "      <td>3.022801</td>\n",
       "    </tr>\n",
       "  </tbody>\n",
       "</table>\n",
       "</div>"
      ],
      "text/plain": [
       "              0\n",
       "0.025 -5.390045\n",
       "0.975  3.022801"
      ]
     },
     "execution_count": 42,
     "metadata": {},
     "output_type": "execute_result"
    }
   ],
   "source": [
    "booted_data_arpu = get_bootstrap(      \n",
    "    result.query('testgroup == \"a\"')['revenue'],\n",
    "    result.query('testgroup == \"b\"')['revenue'],\n",
    "    boot_it = 1000,\n",
    "    statistic = np.mean, \n",
    "    bootstrap_conf_level = 0.95)\n",
    "print(\"p_value:\", booted_data_arpu[\"p_value\"].round(2))\n",
    "booted_data_arpu[\"quants\"]"
   ]
  },
  {
   "cell_type": "markdown",
   "metadata": {},
   "source": [
    "Ноль входит в доверительный интервал, значит статистически значимых различий ARPU в группе a и b нет."
   ]
  },
  {
   "cell_type": "markdown",
   "metadata": {},
   "source": [
    "<div class=\"alert alert-block alert-info\"\n",
    "<b>\n",
    "\n",
    "T-test и Bootstrap не выявили статистически значимых различий ARPPU и ARPU в разрезе групп a и b.\n",
    "Это значит, что набор акционных предложений никак не повлиял на метрики ARPPU и ARPU.\n",
    "\n",
    "</b>\n",
    "</div"
   ]
  },
  {
   "cell_type": "markdown",
   "metadata": {},
   "source": [
    "<div class=\"alert alert-block alert-info\"\n",
    "<b>\n",
    "\n",
    "Таким образом, однозначно ответить на вопрос, какой набор предложений можно считать лучшим довольно непросто. Результаты несколько противоречивые:\n",
    "\n",
    "* Анализ конверсии показал,что набор акционных предложений для контрольной группы a положительно повлиял на пользователей, побудив их совершать покупки.\n",
    "\n",
    "* Набор акционных предложений для групп a и b не оказал влияния на ARPPU и ARPU.\n",
    "\n",
    "* Также стоит отметить, что пользователи в группах a и b по-разному совершали покупки. Медианное значение дохода в группе a примерно в 10 раз меньше, чем в группе b. Размах в группе b много меньше, чем в группе a. В группе а покупки либо слишком дорогие, либо совсем недорогие. В группе b - распределение довольно равномерное.\n",
    "\n",
    "**На мой взгляд, лучше работать с акционным предложением группы b. Да, конверсия в покупку меньше. Однако доход с пользователей в разы больше, картина покупок равномерная.**\n",
    "\n",
    "</b>\n",
    "</div"
   ]
  },
  {
   "cell_type": "markdown",
   "metadata": {},
   "source": [
    "    "
   ]
  },
  {
   "cell_type": "markdown",
   "metadata": {},
   "source": [
    "     "
   ]
  },
  {
   "cell_type": "markdown",
   "metadata": {},
   "source": [
    "<div class=\"alert alert-block alert-danger\"\n",
    "<b>\n",
    "<ol>\n",
    "    \n",
    "**Задача 3**\n",
    "    \n",
    "**В игре Plants & Gardens каждый месяц проводятся тематические события, ограниченные по времени.**\n",
    "**В них игроки могут получить уникальные предметы для сада и персонажей, дополнительные монеты или бонусы.**\n",
    "**Для получения награды требуется пройти ряд уровней за определенное время.** \n",
    "**С помощью каких метрик можно оценить результаты последнего прошедшего события?**\n",
    "\n",
    "**Предположим, в другом событии мы усложнили механику событий так, что при каждой неудачной попытке выполнения** \n",
    "**уровня игрок будет откатываться на несколько уровней назад. Изменится ли набор метрик оценки результата? Если да, то как?**\n",
    "    \n",
    "</ol>\n",
    "</b>\n",
    "</div>"
   ]
  },
  {
   "cell_type": "markdown",
   "metadata": {
    "scrolled": true
   },
   "source": [
    "### **Рассмотрим первую ситуацию, где проводятся тематические события, ограниченные по времени.** \n",
    "\n",
    "**Можно использовать следующие метрики:**\n",
    "\n",
    "* **Дневная аудитория (DAU)** — количество уникальных пользователей, которые зашли в игру в течение суток. С помощью\n",
    "этой метрики можно сравнить количество пользователей в дни тематических событий и в обычные дни. Так можно будет оценить, \n",
    "стремятся ли пользователи зайти в игру в дни тематических событий.\n",
    "\n",
    "\n",
    "* **Конверсия (conversion rate, CR)** — отношение числа пользователей, которые выполнили какое-либо целевое действие к общему\n",
    "числу пользователей. Данная метрика покажет, увеличивают ли наличие тематических событий количество новых пользователей.  \n",
    "\n",
    "\n",
    "* **Sticky Factor, или Stickness (степень вовлечённости, коэффициент «липучести»)** — показатель лояльности аудитории к игре Показывает, как часто клиенты возвращаются в игру в течение недели или месяца.\n",
    "\n",
    "\n",
    "* **Средняя продолжительность сессии (average session length, ASL)** – среднее арифметическое длин всех сессий. Метрика подскажет, увеличивается ли время, проведенное пользователей в игре в дни тематических событий. \n",
    "\n",
    "\n",
    "* **Количество сеансов (сессий) на пользователя** — помогает понять как часто пользователи возвращаются и используют игру.\n",
    "\n",
    "\n",
    "### **Рассмотрим ситуацию с усложненной механикой, где добавляется откат при каждой неудачной попытке.** \n",
    "\n",
    "Наверняка, наличие отката назад и необходимость пользователю начинать все сначала негативно отразится на метриках. \n",
    "Особенно если прохождение уровней будет нелегким. На мой взгляд, здесь еще важно, насколько ценными будут призы. \n",
    "Если у пользователя мотивация будет невысокая, а достижение результата слишком трудозатратным, ему попросту не захочется в принципе в этом участвовать. Поэтому помимо вышеуказанных метрик стоит добавить следующие:\n",
    "\n",
    "* **Среднее количество откатов** — покажет, как часто игроки терпят неудачу. Возможно уровни в игре слишком сложные.\n",
    "* **Средняя продолжительность сессии после отката** — поможет понять, готовы ли пользователи продолжать игру после неудачи.\n",
    "* **Retention** - метрика, которая показывает, как пользователи возвращаются в продукт (и часто свидетельствует, нравится ли он им)."
   ]
  },
  {
   "cell_type": "markdown",
   "metadata": {},
   "source": [
    "  "
   ]
  }
 ],
 "metadata": {
  "kernelspec": {
   "display_name": "Python 3",
   "language": "python",
   "name": "python3"
  },
  "language_info": {
   "codemirror_mode": {
    "name": "ipython",
    "version": 3
   },
   "file_extension": ".py",
   "mimetype": "text/x-python",
   "name": "python",
   "nbconvert_exporter": "python",
   "pygments_lexer": "ipython3",
   "version": "3.7.3"
  }
 },
 "nbformat": 4,
 "nbformat_minor": 4
}
